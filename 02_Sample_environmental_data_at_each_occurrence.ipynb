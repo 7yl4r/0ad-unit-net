{
  "nbformat": 4,
  "nbformat_minor": 0,
  "metadata": {
    "colab": {
      "provenance": [],
      "include_colab_link": true
    },
    "kernelspec": {
      "name": "python3",
      "display_name": "Python 3"
    },
    "language_info": {
      "name": "python"
    }
  },
  "cells": [
    {
      "cell_type": "markdown",
      "metadata": {
        "id": "view-in-github",
        "colab_type": "text"
      },
      "source": [
        "<a href=\"https://colab.research.google.com/github/7yl4r/0ad-unit-net/blob/master/02_Sample_environmental_data_at_each_occurrence.ipynb\" target=\"_parent\"><img src=\"https://colab.research.google.com/assets/colab-badge.svg\" alt=\"Open In Colab\"/></a>"
      ]
    },
    {
      "cell_type": "markdown",
      "source": [
        "## Setup"
      ],
      "metadata": {
        "id": "KdZ9Qbn6D20P"
      }
    },
    {
      "cell_type": "code",
      "source": [
        "# Modify this section as needed.\n",
        "\n",
        "# ==============================================================================\n",
        "# === directory setup\n",
        "# ==============================================================================\n",
        "# If using google colab and google drive:\n",
        "from google.colab import drive\n",
        "drive.mount('/content/drive')\n",
        "\n",
        "PROJECT_DIR = '/content/drive/MyDrive/GSoC_SDM_Project'\n",
        "\n",
        "# === if using local machine\n",
        "# PROJECT_DIR = './'\n",
        "#import os\n",
        "#if not os.path.exists(PROJECT_DIR):\n",
        "#    os.makedirs(PROJECT_DIR)\n",
        "\n",
        "# ==============================================================================\n",
        "# ==============================================================================\n",
        "# === spatial coverage\n",
        "# ==============================================================================\n",
        "LATMIN = 24.11637699635014\n",
        "LATMAX = 26.11949526731449\n",
        "LONMIN = -82.51572158798965\n",
        "LONMAX = -79.61106009492724\n",
        "# =============================================================================="
      ],
      "metadata": {
        "id": "Sl8z16frD0mz",
        "outputId": "292cac73-87cb-4096-ff01-5392b065e8cf",
        "colab": {
          "base_uri": "https://localhost:8080/"
        }
      },
      "execution_count": 5,
      "outputs": [
        {
          "output_type": "stream",
          "name": "stdout",
          "text": [
            "Drive already mounted at /content/drive; to attempt to forcibly remount, call drive.mount(\"/content/drive\", force_remount=True).\n"
          ]
        }
      ]
    },
    {
      "cell_type": "code",
      "execution_count": 6,
      "metadata": {
        "colab": {
          "base_uri": "https://localhost:8080/"
        },
        "id": "duORdW0vAiYc",
        "outputId": "5e0bdce3-4963-4e80-fec2-2a5c1563f517"
      },
      "outputs": [
        {
          "output_type": "stream",
          "name": "stdout",
          "text": [
            "Requirement already satisfied: rasterio in /usr/local/lib/python3.11/dist-packages (1.4.3)\n",
            "Requirement already satisfied: pandas in /usr/local/lib/python3.11/dist-packages (2.2.2)\n",
            "Requirement already satisfied: geopandas in /usr/local/lib/python3.11/dist-packages (1.0.1)\n",
            "Requirement already satisfied: matplotlib in /usr/local/lib/python3.11/dist-packages (3.10.0)\n",
            "Requirement already satisfied: requests in /usr/local/lib/python3.11/dist-packages (2.32.3)\n",
            "Requirement already satisfied: xarray in /usr/local/lib/python3.11/dist-packages (2025.3.1)\n",
            "Requirement already satisfied: netCDF4 in /usr/local/lib/python3.11/dist-packages (1.7.2)\n",
            "Requirement already satisfied: affine in /usr/local/lib/python3.11/dist-packages (from rasterio) (2.4.0)\n",
            "Requirement already satisfied: attrs in /usr/local/lib/python3.11/dist-packages (from rasterio) (25.3.0)\n",
            "Requirement already satisfied: certifi in /usr/local/lib/python3.11/dist-packages (from rasterio) (2025.6.15)\n",
            "Requirement already satisfied: click>=4.0 in /usr/local/lib/python3.11/dist-packages (from rasterio) (8.2.1)\n",
            "Requirement already satisfied: cligj>=0.5 in /usr/local/lib/python3.11/dist-packages (from rasterio) (0.7.2)\n",
            "Requirement already satisfied: numpy>=1.24 in /usr/local/lib/python3.11/dist-packages (from rasterio) (2.0.2)\n",
            "Requirement already satisfied: click-plugins in /usr/local/lib/python3.11/dist-packages (from rasterio) (1.1.1.2)\n",
            "Requirement already satisfied: pyparsing in /usr/local/lib/python3.11/dist-packages (from rasterio) (3.2.3)\n",
            "Requirement already satisfied: python-dateutil>=2.8.2 in /usr/local/lib/python3.11/dist-packages (from pandas) (2.9.0.post0)\n",
            "Requirement already satisfied: pytz>=2020.1 in /usr/local/lib/python3.11/dist-packages (from pandas) (2025.2)\n",
            "Requirement already satisfied: tzdata>=2022.7 in /usr/local/lib/python3.11/dist-packages (from pandas) (2025.2)\n",
            "Requirement already satisfied: pyogrio>=0.7.2 in /usr/local/lib/python3.11/dist-packages (from geopandas) (0.11.0)\n",
            "Requirement already satisfied: packaging in /usr/local/lib/python3.11/dist-packages (from geopandas) (24.2)\n",
            "Requirement already satisfied: pyproj>=3.3.0 in /usr/local/lib/python3.11/dist-packages (from geopandas) (3.7.1)\n",
            "Requirement already satisfied: shapely>=2.0.0 in /usr/local/lib/python3.11/dist-packages (from geopandas) (2.1.1)\n",
            "Requirement already satisfied: contourpy>=1.0.1 in /usr/local/lib/python3.11/dist-packages (from matplotlib) (1.3.2)\n",
            "Requirement already satisfied: cycler>=0.10 in /usr/local/lib/python3.11/dist-packages (from matplotlib) (0.12.1)\n",
            "Requirement already satisfied: fonttools>=4.22.0 in /usr/local/lib/python3.11/dist-packages (from matplotlib) (4.58.4)\n",
            "Requirement already satisfied: kiwisolver>=1.3.1 in /usr/local/lib/python3.11/dist-packages (from matplotlib) (1.4.8)\n",
            "Requirement already satisfied: pillow>=8 in /usr/local/lib/python3.11/dist-packages (from matplotlib) (11.2.1)\n",
            "Requirement already satisfied: charset-normalizer<4,>=2 in /usr/local/lib/python3.11/dist-packages (from requests) (3.4.2)\n",
            "Requirement already satisfied: idna<4,>=2.5 in /usr/local/lib/python3.11/dist-packages (from requests) (3.10)\n",
            "Requirement already satisfied: urllib3<3,>=1.21.1 in /usr/local/lib/python3.11/dist-packages (from requests) (2.4.0)\n",
            "Requirement already satisfied: cftime in /usr/local/lib/python3.11/dist-packages (from netCDF4) (1.6.4.post1)\n",
            "Requirement already satisfied: six>=1.5 in /usr/local/lib/python3.11/dist-packages (from python-dateutil>=2.8.2->pandas) (1.17.0)\n"
          ]
        }
      ],
      "source": [
        "!pip install rasterio pandas geopandas matplotlib  requests xarray netCDF4"
      ]
    },
    {
      "cell_type": "markdown",
      "source": [
        "Importing libraries"
      ],
      "metadata": {
        "id": "PA9meCsJEJJD"
      }
    },
    {
      "cell_type": "code",
      "source": [
        "import pandas as pd\n",
        "%matplotlib inline"
      ],
      "metadata": {
        "id": "Si3SNmisES6t"
      },
      "execution_count": 7,
      "outputs": []
    },
    {
      "cell_type": "markdown",
      "source": [
        "mount google drive for saving result"
      ],
      "metadata": {
        "id": "ineRPtWcEddq"
      }
    },
    {
      "cell_type": "code",
      "source": [
        "# read parquet file of occurrences\n",
        "# see step 01\n",
        "df_clean = pd.read_parquet(f'{PROJECT_DIR}/occurrences.parquet')"
      ],
      "metadata": {
        "id": "eMF52MoBC-QI"
      },
      "execution_count": 8,
      "outputs": []
    },
    {
      "cell_type": "markdown",
      "source": [
        "Function to prepare data for environmental sampling"
      ],
      "metadata": {
        "id": "4s5BdSZCDn6v"
      }
    },
    {
      "cell_type": "code",
      "source": [
        "from typing import Optional, List\n",
        "import pandas as pd\n",
        "\n",
        "def prepare_for_environmental_sampling(\n",
        "    df: pd.DataFrame,\n",
        "    species_column: str = 'scientificName',\n",
        "    lat_column: str = 'decimalLatitude',\n",
        "    lon_column: str = 'decimalLongitude',\n",
        "    additional_columns: Optional[List[str]] = None\n",
        ") -> pd.DataFrame:\n",
        "\n",
        "    columns = [species_column, lat_column, lon_column]\n",
        "\n",
        "    if additional_columns:\n",
        "        columns.extend([col for col in additional_columns if col in df.columns])\n",
        "\n",
        "    prepared_df = df[columns].copy()\n",
        "\n",
        "    prepared_df['occurrence_id'] = range(len(prepared_df))\n",
        "\n",
        "    cols = ['occurrence_id'] + [col for col in prepared_df.columns if col != 'occurrence_id']\n",
        "    prepared_df = prepared_df[cols]\n",
        "\n",
        "    return prepared_df"
      ],
      "metadata": {
        "id": "UGkVzyEBI6hM"
      },
      "execution_count": 9,
      "outputs": []
    },
    {
      "cell_type": "markdown",
      "source": [
        "This is just and example for testing the general functions\n"
      ],
      "metadata": {
        "id": "6HQBP1PrD4yU"
      }
    },
    {
      "cell_type": "code",
      "source": [
        "# TODO: move this to pyOBIS notebok\n",
        "\n",
        "def save_occurrence_data(\n",
        "    df: pd.DataFrame,\n",
        "    filename: str,\n",
        "    format: str = 'csv'\n",
        ") -> None:\n",
        "\n",
        "    if format == 'csv':\n",
        "        df.to_csv(f\"{filename}.csv\", index=False)\n",
        "        print(f\"Data saved to {filename}.csv\")\n",
        "    elif format == 'parquet':\n",
        "        df.to_parquet(f\"{filename}.parquet\", index=False)\n",
        "        print(f\"Data saved to {filename}.parquet\")\n",
        "    else:\n",
        "        raise ValueError(f\"Unsupported format: {format}\")\n"
      ],
      "metadata": {
        "id": "iyaa5b9YOSi1"
      },
      "execution_count": 10,
      "outputs": []
    },
    {
      "cell_type": "markdown",
      "source": [
        "bringing in environmental data. Functions for Environmental Data Sampling"
      ],
      "metadata": {
        "id": "hbt7MRx-Ng_Q"
      }
    },
    {
      "cell_type": "code",
      "source": [
        "import rasterio\n",
        "import xarray as xr\n",
        "import numpy as np\n",
        "from typing import Union, List, Tuple, Optional, Dict"
      ],
      "metadata": {
        "id": "VlNQY5BUNeRH"
      },
      "execution_count": 11,
      "outputs": []
    },
    {
      "cell_type": "code",
      "source": [
        "def add_environmental_data(\n",
        "    df: pd.DataFrame,\n",
        "    raster_path: str,\n",
        "    column_name: str = 'temperature',\n",
        "    lat_col: str = 'decimalLatitude',\n",
        "    lon_col: str = 'decimalLongitude'\n",
        ") -> pd.DataFrame:\n",
        "\n",
        "    df_result = df.copy()\n",
        "\n",
        "    with rasterio.open(raster_path) as src:\n",
        "        coords = [(row[lon_col], row[lat_col]) for _, row in df.iterrows()]\n",
        "        sampled_values = list(src.sample(coords))\n",
        "        values = [val[0] if val[0] != src.nodata else np.nan for val in sampled_values]\n",
        "        df_result[column_name] = values\n",
        "\n",
        "    print(f\"Added {column_name}: {df_result[column_name].notna().sum()}/{len(df_result)} valid values\")\n",
        "    return df_result\n",
        "\n",
        "# multidecadal environmental data from NOAA World Ocean Atlas\n",
        "# https://www.ncei.noaa.gov/access/world-ocean-atlas-2023/bin/woa23.pl\n",
        "df_with_env = add_environmental_data(df_clean, f'{PROJECT_DIR}/woa23_decav_t00_04_t_mn.tif', 'temperature')\n",
        "df_with_env = add_environmental_data(df_with_env, f'{PROJECT_DIR}/woa23_decav_t00_04_t_sd.tif', 'temperature_sd')\n",
        "# TODO: add more files here\n",
        "\n",
        "print(df_with_env.head())\n",
        "\n",
        "df_with_env.to_parquet(f'{PROJECT_DIR}/occurrences_and_environment.parquet', engine='pyarrow', index=False)"
      ],
      "metadata": {
        "id": "_6BQ0scdR4O3",
        "colab": {
          "base_uri": "https://localhost:8080/"
        },
        "outputId": "e465c412-21f3-443d-c102-204fd6cdead9"
      },
      "execution_count": 13,
      "outputs": [
        {
          "output_type": "stream",
          "name": "stdout",
          "text": [
            "Added temperature: 570/3013 valid values\n",
            "Added temperature_sd: 570/3013 valid values\n",
            "   decimalLatitude  decimalLongitude occurrenceStatus  date_year  \\\n",
            "0        25.138383        -80.624983                Q     2006.0   \n",
            "1        24.996280        -80.649250                Q     2006.0   \n",
            "2        25.248783        -80.403150                Q     2005.0   \n",
            "3        25.252020        -80.397290                Q     2007.0   \n",
            "4        25.472200        -80.325950                Q     2005.0   \n",
            "\n",
            "       date_mid  temperature  temperature_sd  \n",
            "0  1.147133e+12          NaN             NaN  \n",
            "1  1.160006e+12    26.382675        2.261415  \n",
            "2  1.115683e+12    27.391775        1.604826  \n",
            "3  1.189469e+12          NaN             NaN  \n",
            "4  1.129680e+12          NaN             NaN  \n"
          ]
        }
      ]
    }
  ]
}