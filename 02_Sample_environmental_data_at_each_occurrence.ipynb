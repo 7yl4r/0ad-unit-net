{
  "nbformat": 4,
  "nbformat_minor": 0,
  "metadata": {
    "colab": {
      "provenance": [],
      "include_colab_link": true
    },
    "kernelspec": {
      "name": "python3",
      "display_name": "Python 3"
    },
    "language_info": {
      "name": "python"
    }
  },
  "cells": [
    {
      "cell_type": "markdown",
      "metadata": {
        "id": "view-in-github",
        "colab_type": "text"
      },
      "source": [
        "<a href=\"https://colab.research.google.com/github/7yl4r/0ad-unit-net/blob/master/02_Sample_environmental_data_at_each_occurrence.ipynb\" target=\"_parent\"><img src=\"https://colab.research.google.com/assets/colab-badge.svg\" alt=\"Open In Colab\"/></a>"
      ]
    },
    {
      "cell_type": "markdown",
      "source": [
        "## Setup"
      ],
      "metadata": {
        "id": "KdZ9Qbn6D20P"
      }
    },
    {
      "cell_type": "code",
      "source": [
        "# ==============================================================================\n",
        "# === directory setup\n",
        "# ==============================================================================\n",
        "# === If using google colab and google drive:\n",
        "# TODO: is there a way to do this without granting excessive permissions?\n",
        "from google.colab import drive\n",
        "drive.mount('/content/drive')\n",
        "\n",
        "# NOTE: Before running you must create a folder in your google drive\n",
        "#       matching the directory name here `GSoC_SDM_Project`.\n",
        "PROJECT_DIR = '/content/drive/MyDrive/GSoC_SDM_Project'\n",
        "\n",
        "# === if using local machine\n",
        "# PROJECT_DIR = './'\n",
        "#import os\n",
        "#if not os.path.exists(PROJECT_DIR):\n",
        "#    os.makedirs(PROJECT_DIR)\n",
        "# ==============================================================================\n",
        "# ==============================================================================\n",
        "# === spatial coverage\n",
        "# ==============================================================================\n",
        "# # === FL\n",
        "LATMIN = 24.0\n",
        "LATMAX = 30.7\n",
        "LONMIN = -87.9\n",
        "LONMAX = -79.5\n",
        "# === FL Keys\n",
        "# LATMIN = 24.11637699635014\n",
        "# LATMAX = 26.11949526731449\n",
        "# LONMIN = -82.51572158798965\n",
        "# LONMAX = -79.61106009492724\n",
        "# =============================================================================="
      ],
      "metadata": {
        "id": "Sl8z16frD0mz",
        "outputId": "915cd525-c934-4ae4-9e9e-d0c73abc36cc",
        "colab": {
          "base_uri": "https://localhost:8080/"
        }
      },
      "execution_count": null,
      "outputs": [
        {
          "output_type": "stream",
          "name": "stdout",
          "text": [
            "Drive already mounted at /content/drive; to attempt to forcibly remount, call drive.mount(\"/content/drive\", force_remount=True).\n"
          ]
        }
      ]
    },
    {
      "cell_type": "code",
      "execution_count": null,
      "metadata": {
        "colab": {
          "base_uri": "https://localhost:8080/"
        },
        "id": "duORdW0vAiYc",
        "outputId": "e708c2fa-a0d0-4342-8511-058d4d8be286"
      },
      "outputs": [
        {
          "output_type": "stream",
          "name": "stdout",
          "text": [
            "Requirement already satisfied: rasterio in /usr/local/lib/python3.11/dist-packages (1.4.3)\n",
            "Requirement already satisfied: pandas in /usr/local/lib/python3.11/dist-packages (2.2.2)\n",
            "Requirement already satisfied: geopandas in /usr/local/lib/python3.11/dist-packages (1.0.1)\n",
            "Requirement already satisfied: matplotlib in /usr/local/lib/python3.11/dist-packages (3.10.0)\n",
            "Requirement already satisfied: requests in /usr/local/lib/python3.11/dist-packages (2.32.3)\n",
            "Requirement already satisfied: xarray in /usr/local/lib/python3.11/dist-packages (2025.3.1)\n",
            "Requirement already satisfied: netCDF4 in /usr/local/lib/python3.11/dist-packages (1.7.2)\n",
            "Requirement already satisfied: affine in /usr/local/lib/python3.11/dist-packages (from rasterio) (2.4.0)\n",
            "Requirement already satisfied: attrs in /usr/local/lib/python3.11/dist-packages (from rasterio) (25.3.0)\n",
            "Requirement already satisfied: certifi in /usr/local/lib/python3.11/dist-packages (from rasterio) (2025.6.15)\n",
            "Requirement already satisfied: click>=4.0 in /usr/local/lib/python3.11/dist-packages (from rasterio) (8.2.1)\n",
            "Requirement already satisfied: cligj>=0.5 in /usr/local/lib/python3.11/dist-packages (from rasterio) (0.7.2)\n",
            "Requirement already satisfied: numpy>=1.24 in /usr/local/lib/python3.11/dist-packages (from rasterio) (2.0.2)\n",
            "Requirement already satisfied: click-plugins in /usr/local/lib/python3.11/dist-packages (from rasterio) (1.1.1.2)\n",
            "Requirement already satisfied: pyparsing in /usr/local/lib/python3.11/dist-packages (from rasterio) (3.2.3)\n",
            "Requirement already satisfied: python-dateutil>=2.8.2 in /usr/local/lib/python3.11/dist-packages (from pandas) (2.9.0.post0)\n",
            "Requirement already satisfied: pytz>=2020.1 in /usr/local/lib/python3.11/dist-packages (from pandas) (2025.2)\n",
            "Requirement already satisfied: tzdata>=2022.7 in /usr/local/lib/python3.11/dist-packages (from pandas) (2025.2)\n",
            "Requirement already satisfied: pyogrio>=0.7.2 in /usr/local/lib/python3.11/dist-packages (from geopandas) (0.11.0)\n",
            "Requirement already satisfied: packaging in /usr/local/lib/python3.11/dist-packages (from geopandas) (24.2)\n",
            "Requirement already satisfied: pyproj>=3.3.0 in /usr/local/lib/python3.11/dist-packages (from geopandas) (3.7.1)\n",
            "Requirement already satisfied: shapely>=2.0.0 in /usr/local/lib/python3.11/dist-packages (from geopandas) (2.1.1)\n",
            "Requirement already satisfied: contourpy>=1.0.1 in /usr/local/lib/python3.11/dist-packages (from matplotlib) (1.3.2)\n",
            "Requirement already satisfied: cycler>=0.10 in /usr/local/lib/python3.11/dist-packages (from matplotlib) (0.12.1)\n",
            "Requirement already satisfied: fonttools>=4.22.0 in /usr/local/lib/python3.11/dist-packages (from matplotlib) (4.58.4)\n",
            "Requirement already satisfied: kiwisolver>=1.3.1 in /usr/local/lib/python3.11/dist-packages (from matplotlib) (1.4.8)\n",
            "Requirement already satisfied: pillow>=8 in /usr/local/lib/python3.11/dist-packages (from matplotlib) (11.2.1)\n",
            "Requirement already satisfied: charset-normalizer<4,>=2 in /usr/local/lib/python3.11/dist-packages (from requests) (3.4.2)\n",
            "Requirement already satisfied: idna<4,>=2.5 in /usr/local/lib/python3.11/dist-packages (from requests) (3.10)\n",
            "Requirement already satisfied: urllib3<3,>=1.21.1 in /usr/local/lib/python3.11/dist-packages (from requests) (2.4.0)\n",
            "Requirement already satisfied: cftime in /usr/local/lib/python3.11/dist-packages (from netCDF4) (1.6.4.post1)\n",
            "Requirement already satisfied: six>=1.5 in /usr/local/lib/python3.11/dist-packages (from python-dateutil>=2.8.2->pandas) (1.17.0)\n"
          ]
        }
      ],
      "source": [
        "!pip install rasterio pandas geopandas matplotlib  requests xarray netCDF4"
      ]
    },
    {
      "cell_type": "markdown",
      "source": [
        "mount google drive for saving result"
      ],
      "metadata": {
        "id": "ineRPtWcEddq"
      }
    },
    {
      "cell_type": "code",
      "source": [
        "# read parquet file of occurrences\n",
        "# see step 01 https://github.com/marinebon/HackingLimno2025\n",
        "\n",
        "import pandas as pd\n",
        "%matplotlib inline\n",
        "df_clean = pd.read_parquet(f'{PROJECT_DIR}/occurrences.parquet')"
      ],
      "metadata": {
        "id": "eMF52MoBC-QI"
      },
      "execution_count": null,
      "outputs": []
    },
    {
      "cell_type": "markdown",
      "source": [
        "Function to prepare data for environmental sampling"
      ],
      "metadata": {
        "id": "4s5BdSZCDn6v"
      }
    },
    {
      "cell_type": "code",
      "source": [
        "import rasterio\n",
        "import xarray as xr\n",
        "import numpy as np\n",
        "from typing import Union, List, Tuple, Optional, Dict\n",
        "\n",
        "def add_environmental_data(\n",
        "    df: pd.DataFrame,\n",
        "    raster_path: str,\n",
        "    column_name: str = 'temperature',\n",
        "    lat_col: str = 'decimalLatitude',\n",
        "    lon_col: str = 'decimalLongitude'\n",
        ") -> pd.DataFrame:\n",
        "\n",
        "    df_result = df.copy()\n",
        "\n",
        "    with rasterio.open(raster_path) as src:\n",
        "        coords = [(row[lon_col], row[lat_col]) for _, row in df.iterrows()]\n",
        "        sampled_values = list(src.sample(coords))\n",
        "        band_index = 0  # 0 is surface\n",
        "        values = [val[band_index] if val[band_index] != src.nodata else np.nan for val in sampled_values]\n",
        "        df_result[column_name] = values\n",
        "\n",
        "    print(f\"Added {column_name}: {df_result[column_name].notna().sum()}/{len(df_result)} valid values\")\n",
        "    return df_result\n",
        "\n",
        "# multidecadal environmental data from NOAA World Ocean Atlas\n",
        "# https://www.ncei.noaa.gov/access/world-ocean-atlas-2023/\n",
        "\n",
        "# add all the environmental data\n",
        "df_with_env = df_clean\n",
        "df_with_env = add_environmental_data(df_with_env, f'{PROJECT_DIR}/woa23_all_i00_01.nc_i_mn.tif', 'i')\n",
        "df_with_env = add_environmental_data(df_with_env, f'{PROJECT_DIR}/woa23_all_i00_01.nc_i_sd.tif', 'i_sd')\n",
        "df_with_env = add_environmental_data(df_with_env, f'{PROJECT_DIR}/woa23_all_n00_01.nc_n_mn.tif', 'n')\n",
        "df_with_env = add_environmental_data(df_with_env, f'{PROJECT_DIR}/woa23_all_n00_01.nc_n_sd.tif', 'n_sd')\n",
        "df_with_env = add_environmental_data(df_with_env, f'{PROJECT_DIR}/woa23_all_o00_01_o_sd.tif', 'o')\n",
        "df_with_env = add_environmental_data(df_with_env, f'{PROJECT_DIR}/woa23_all_o00_01_o_mn.tif', 'o_sd')\n",
        "df_with_env = add_environmental_data(df_with_env, f'{PROJECT_DIR}/woa23_all_O00_01.nc_A_mn.tif', 'O')\n",
        "df_with_env = add_environmental_data(df_with_env, f'{PROJECT_DIR}/woa23_all_O00_01.nc_A_sd.tif', 'O_sd')\n",
        "df_with_env = add_environmental_data(df_with_env, f'{PROJECT_DIR}/woa23_all_p00_01.nc_p_mn.tif', 'p')\n",
        "df_with_env = add_environmental_data(df_with_env, f'{PROJECT_DIR}/woa23_all_p00_01.nc_p_sd.tif', 'p_sd')\n",
        "df_with_env = add_environmental_data(df_with_env, f'{PROJECT_DIR}/woa23_decav_t00_04_t_mn.tif', 't')\n",
        "df_with_env = add_environmental_data(df_with_env, f'{PROJECT_DIR}/woa23_decav_t00_04_t_sd.tif', 't_sd')\n",
        "\n",
        "\n",
        "print(df_with_env.head())\n",
        "\n",
        "df_with_env.to_parquet(f'{PROJECT_DIR}/occurrences_and_environment.parquet', engine='pyarrow', index=False)"
      ],
      "metadata": {
        "id": "_6BQ0scdR4O3",
        "colab": {
          "base_uri": "https://localhost:8080/"
        },
        "outputId": "8684744e-d5f1-4349-92e1-5c0fa2b2981a"
      },
      "execution_count": null,
      "outputs": [
        {
          "output_type": "stream",
          "name": "stdout",
          "text": [
            "Added i: 19078/30535 valid values\n",
            "Added i_sd: 9665/30535 valid values\n",
            "Added n: 9665/30535 valid values\n",
            "Added n_sd: 9665/30535 valid values\n",
            "Added o: 22881/30535 valid values\n",
            "Added o_sd: 22881/30535 valid values\n",
            "Added O: 22881/30535 valid values\n",
            "Added O_sd: 22881/30535 valid values\n",
            "Added p: 22816/30535 valid values\n",
            "Added p_sd: 22816/30535 valid values\n",
            "Added t: 28498/30535 valid values\n",
            "Added t_sd: 28498/30535 valid values\n",
            "   decimalLatitude  decimalLongitude occurrenceStatus  date_year  \\\n",
            "0         25.04470         -80.39480          present     1999.0   \n",
            "1         24.95167         -80.45990          present     2014.0   \n",
            "2         25.76970         -80.08830          present     2016.0   \n",
            "3         24.60800         -82.94400          present     2016.0   \n",
            "4         25.81166         -80.10945          present     2022.0   \n",
            "\n",
            "       date_mid         i      i_sd         n      n_sd         o        o_sd  \\\n",
            "0  9.308736e+11       NaN       NaN       NaN       NaN       NaN         NaN   \n",
            "1  1.402186e+12       NaN       NaN       NaN       NaN  9.131166  194.576263   \n",
            "2  1.475107e+12       NaN       NaN       NaN       NaN       NaN         NaN   \n",
            "3  1.467331e+12  1.346341  0.547318  0.195122  0.045991  9.370954  201.907425   \n",
            "4  1.660608e+12       NaN       NaN       NaN       NaN       NaN         NaN   \n",
            "\n",
            "          O      O_sd         p      p_sd          t      t_sd  \n",
            "0       NaN       NaN       NaN       NaN  27.391775  1.604826  \n",
            "1  0.668800  8.202207  0.105149  0.033456  27.007067  1.904323  \n",
            "2       NaN       NaN       NaN       NaN        NaN       NaN  \n",
            "3 -2.230569  5.663073  0.113415  0.030867  25.754576  2.472621  \n",
            "4       NaN       NaN       NaN       NaN        NaN       NaN  \n"
          ]
        }
      ]
    }
  ]
}